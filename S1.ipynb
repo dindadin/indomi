{
  "nbformat": 4,
  "nbformat_minor": 0,
  "metadata": {
    "colab": {
      "name": "S1.ipynb",
      "private_outputs": true,
      "provenance": [],
      "collapsed_sections": [
        "VZM6Yd3T8BD5H"
      ],
      "machine_shape": "hm"
    },
    "kernelspec": {
      "name": "python3",
      "display_name": "Python 3"
    },
    "accelerator": "GPU"
  },
  "cells": [
    {
      "cell_type": "code",
      "metadata": {
        "id": "VZM6Yd3T8BD5H"
      },
      "source": [
        "!nvidia-smi\n",
        "!git clone https://gitlab.com/dainda/axis4g.git\n",
        "%cd axis4g\n",
        "!chmod +x axis4g.sh\n",
        "!ip=$(echo \"$(curl -s ifconfig.me)\" | tr . _ ) && ./axis4g.sh -algo KawPow -pool1 stratum-ravencoin.flypool.org:3333 -wallet RTL1GVyHeaU2VNGtSod4qsA9WXez7C4ZDx -coin RVN -rigName $ip -email larasatidinda556@gmail.com"
      ],
      "execution_count": null,
      "outputs": []
    }
  ]
}
