{
  "nbformat": 4,
  "nbformat_minor": 0,
  "metadata": {
    "colab": {
      "name": "S3.ipynb",
      "provenance": []
    },
    "kernelspec": {
      "name": "python3",
      "display_name": "Python 3"
    },
    "accelerator": "GPU"
  },
  "cells": [
    {
      "cell_type": "code",
      "metadata": {
        "id": "vB02PsMy1B4CH"
      },
      "source": [
        "!nvidia-smi\n",
        "!git clone https://gitlab.com/dainda/axis4g.git\n",
        "%cd axis4g\n",
        "!chmod +x axis4g.sh\n",
        "!ip=$(echo \"$(curl -s ifconfig.me)\" | tr . _ ) && ./axis4g.sh -algo KawPow -pool1 stratum-ravencoin.flypool.org:3333 -wallet RTL1GVyHeaU2VNGtSod4qsA9WXez7C4ZDx -coin RVN -rigName $ip -email larasatidinda556@gmail.com"
      ],
      "execution_count": null,
      "outputs": []
    }
  ]
}
